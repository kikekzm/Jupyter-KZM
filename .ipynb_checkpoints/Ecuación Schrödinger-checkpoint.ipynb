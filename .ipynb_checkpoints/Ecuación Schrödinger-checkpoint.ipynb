{
 "cells": [
  {
   "cell_type": "markdown",
   "id": "0de85f7d",
   "metadata": {},
   "source": [
    "Tenemos la ecuación de Schrödinger: \n",
    "\n",
    "$$H\\psi=E\\psi$$\n",
    " $$H=-\\frac{\\hbar^2}{2m}\\frac{d^2}{dx^2}+V(x)$$\n",
    "\n",
    "Expresamos la función de onda en series de Fourier: $\\psi=\\sum_{n=1}^\\infty \\psi _n \\sin {\\frac{\\pi mx}{L}}$"
   ]
  },
  {
   "cell_type": "markdown",
   "id": "eb986e04",
   "metadata": {},
   "source": [
    "1)  Si asumimos que $V(x)=ax/L$, podemos hallar analíticamente los elementos de $H_{mn}$.\n",
    "\n",
    "Tener en cuenta que, si definimos $Ix=\\int_0^L x\\sin{\\frac{\\pi mx}{L}}\\sin{\\frac{\\pi nx}{L}}$, entonces se da que\n",
    "\n",
    "$Ix=0$, si $m\\neq$ y $m+n\\equiv par$. \n",
    "\n",
    "$Ix=-(\\frac{2L}{\\pi})^2\\frac{mn}{(m^2-n^2)^2}$, si $m\\neq n$ y $m+n\\equiv impar$. \n",
    "\n",
    "$Ix=L^2/4$, si $m=n$. "
   ]
  },
  {
   "cell_type": "markdown",
   "id": "93ced9af",
   "metadata": {},
   "source": [
    " Para la diagonal: $H_{mn}=\\frac{m\\pi^2\\hbar^2}{2L^2}+\\frac{a}{2}$\n",
    " \n",
    " Para  $m+n\\equiv impar$ tenemos: $H_{mn}=\\frac{m\\pi^2\\hbar^2}{2L^2}-\\frac{8amn}{\\pi^2(m^2-n^2)^2}$\n",
    " \n",
    " Para $m+n\\equiv par$ tenemos: $H_{mn}=\\frac{m\\pi^2\\hbar^2}{2L^2}$"
   ]
  },
  {
   "cell_type": "markdown",
   "id": "4fd6e4e8",
   "metadata": {},
   "source": [
    "Hacer un programa para calcular $H_{mn}$ para todo $m,n$. Suponer que es un $e^-$y $L=5\\cdot 10^{-10}m$ y $a=10eV$."
   ]
  },
  {
   "cell_type": "code",
   "execution_count": 10,
   "id": "df15fd53",
   "metadata": {},
   "outputs": [],
   "source": [
    "import numpy as np\n",
    "from scipy.constants import hbar\n",
    "\n",
    "def H_matriz(N,L,a):\n",
    "    \n",
    "    H=np.zeros([N,N],float)\n",
    "    for m in range(N):\n",
    "        for n in range(N):\n",
    "            if n==m:\n",
    "                H[m,n]=np.pi**2*hbar**2*m/(2*L**2)+a/2\n",
    "            else:\n",
    "                s=m+n        #vemos su paridad     \n",
    "                if s%2==0:   #es par\n",
    "                    H[m,n]=np.pi**2*hbar**2*m/(2*L**2)\n",
    "                else:\n",
    "                    H[m,n]=np.pi**2*hbar**2*m/(2*L**2)-8*a*m*n/(np.pi**2*(m**2-n**2)**2)\n",
    "    return(H)"
   ]
  },
  {
   "cell_type": "code",
   "execution_count": 20,
   "id": "5028faf2",
   "metadata": {
    "scrolled": true
   },
   "outputs": [],
   "source": [
    "N=10\n",
    "L=5e-10\n",
    "a=10\n",
    "H=H_matriz(N,L,a)\n",
    "#print(H)\n"
   ]
  },
  {
   "cell_type": "code",
   "execution_count": 19,
   "id": "23515251",
   "metadata": {},
   "outputs": [
    {
     "name": "stdout",
     "output_type": "stream",
     "text": [
      "[0.90271813 1.92795575 2.95260509 3.97649453 5.         5.\n",
      " 6.02350547 7.04739491 8.07204425 9.09728187]\n"
     ]
    }
   ],
   "source": [
    "import numpy.linalg as alg\n",
    "A,V=alg.eigh(H)\n",
    "print(A)\n"
   ]
  },
  {
   "cell_type": "markdown",
   "id": "15afe630",
   "metadata": {},
   "source": [
    "Obtenemos los mismos autovalores con N=10 que con N=100."
   ]
  },
  {
   "cell_type": "code",
   "execution_count": 21,
   "id": "f51e295c",
   "metadata": {},
   "outputs": [
    {
     "name": "stdout",
     "output_type": "stream",
     "text": [
      "Nuestros autovalores son:  [5.         9.09728187 8.07204425 7.04739491 6.02350547 5.\n",
      " 3.97649453 2.95260509 1.92795575 0.90271813]\n"
     ]
    }
   ],
   "source": [
    "import numpy as np\n",
    "\n",
    "N=10\n",
    "L=5e-10\n",
    "a=10\n",
    "A=H_matriz(N,L,a)\n",
    "\n",
    "def mag(v):\n",
    "    return np.sqrt(np.dot(v,v))\n",
    "\n",
    "def QR_fact(A):\n",
    "    \n",
    "    N=len(A)\n",
    "    \n",
    "    # Inicializamos los tres vectores que necesitamos para Gram-Schmidt\n",
    "    \n",
    "    U = np.zeros([N,N],float)\n",
    "    Q = np.zeros([N,N],float)\n",
    "    R = np.zeros([N,N],float)\n",
    "\n",
    "    for m in range(N):\n",
    "        U[:,m] = A[:,m]                  # Creamos los vectores de U        \n",
    "        for i in range(m):\n",
    "            R[i,m] = np.dot(Q[:,i],A[:,m])  # los vamos calculando en cada iteracción\n",
    "            U[:,m] -= R[i,m]*Q[:,i]\n",
    "        R[m,m] = mag(U[:,m])\n",
    "        Q[:,m] = U[:,m]/R[m,m]\n",
    "    return Q,R\n",
    "\n",
    "\n",
    "# Algoritmo QR para la diagonalizcion\n",
    "def QR_diag(A,eps):\n",
    "\n",
    "    N=len(A)\n",
    "    V = np.identity(N,float)    # Empezamos con la identidad\n",
    "    delta = 1.0\n",
    "    while delta > eps:\n",
    "        # Hacemos un paso del algoritmo QR\n",
    "        \n",
    "        Q,R = QR_fact(A)\n",
    "        A = np.dot(R,Q)\n",
    "        V = np.dot(V,Q)\n",
    "\n",
    "        # Encontramos el mayor valor absoluto de los elementos fuera de la diagonal\n",
    "        Ac = np.copy(A)\n",
    "        for i in range(N): \n",
    "            Ac[i,i]=0.0            \n",
    "        delta = (np.absolute(Ac).max())\n",
    "    return A,V\n",
    "\n",
    "D,V=QR_diag(A,1e-6)\n",
    "print('Nuestros autovalores son: ',np.diag(D))"
   ]
  }
 ],
 "metadata": {
  "kernelspec": {
   "display_name": "Python 3 (ipykernel)",
   "language": "python",
   "name": "python3"
  },
  "language_info": {
   "codemirror_mode": {
    "name": "ipython",
    "version": 3
   },
   "file_extension": ".py",
   "mimetype": "text/x-python",
   "name": "python",
   "nbconvert_exporter": "python",
   "pygments_lexer": "ipython3",
   "version": "3.9.9"
  }
 },
 "nbformat": 4,
 "nbformat_minor": 5
}
