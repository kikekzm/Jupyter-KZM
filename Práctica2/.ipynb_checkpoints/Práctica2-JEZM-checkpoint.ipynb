{
 "cells": [
  {
   "cell_type": "markdown",
   "id": "b202be2f",
   "metadata": {},
   "source": [
    "# 1)  Oscilador armónico en Mecánica Cuántica."
   ]
  },
  {
   "cell_type": "markdown",
   "id": "07df8a65",
   "metadata": {},
   "source": [
    "##### La ecuación de Schrödinger independiente del tiempo viene dada por\n",
    "$$-\\frac{\\hbar^2}{2m}\\frac{d^2\\phi}{dx^2}+V(x)\\phi =E\\phi $$\n",
    "\n",
    "##### donde V(x) es el potencial del problema. Para el oscilador armónico se tiene\n",
    "$$V(x)=\\frac{1}{2}kx^2$$\n",
    "\n",
    "##### Las correspodientes autofunciones se escriben:\n",
    "$$\\phi_n=N_nH_n(\\alpha x)e^{-\\alpha^2x^2/2},\\ n=0,1,2,3,...$$\n",
    "\n",
    "##### donde $H_n$ son los polinomios de Hermite, $N_n$ son constantes de normalización, y $\\alpha =\\sqrt{M\\omega/\\hbar}$, $\\omega =\\sqrt{k/M}$. Los autovalores correspondientes estan dados por $E_n=\\hbar\\omega(n+1/2)$.\n",
    "\n",
    "##### Para resolver el problema de autovalores numéricamente es conveniente usar unidades $ \\hbar =2M = k/2 = 1$. También resulta útil trabajar en una caja de tamaño $2L$, de forma que imponemos condiciones de contorno $\\phi(−L) = \\phi(L) = 0$."
   ]
  },
  {
   "cell_type": "markdown",
   "id": "90e87677",
   "metadata": {},
   "source": [
    "## Ejercicios:"
   ]
  },
  {
   "cell_type": "markdown",
   "id": "8360df87",
   "metadata": {},
   "source": [
    "#### 1. Crear un programa que resuelva numéricamente el problema de autovalores anterior. Como formas de resolver el problema se proponen:\n",
    "\n",
    "***Diferencias finitas:*** consiste en discretizar el problema, de forma que se calcula la solución en los puntos $x_i$, con $i = 0, 1, 2, ...$ , N. Por ejemplo, la ecuación $y''+f(x)y =\\kappa y$ se discretizaria como\n",
    "$$\\frac{y(x+h)-2y(x)+y(x-h)}{h^2}+f(x)=\\kappa y(x) \\rightarrow y_{i+1}-2y_i+y_{i-1}+h^2f_iy_i=h^2\\kappa y_i$$\n",
    "Esta ecuación puede escribirse en forma matricial $H_{i,j}y_j = Ey_i$, de forma que resolver el problema consiste en obtener los autovalores y autovectores de la matriz $H_{i,j}$ . \n",
    "\n",
    "*Nota:* el problema se resulve para los puntos interiores, es decir, para $i = 1, 2, 3, ... , N −1$, ya que los valores $y(−L) = y_0$, e $y(L) = y_N$ vienen dados por las condiciones de contorno del problema.\n",
    "\n",
    "***Método del disparo:*** En este caso se consideran distintos valores para el autovalor, y se resuelve el problema de condiciones iniciales desde uno de los extremos $(y_0)$ para cada valor propuesto. Solo para los valores correctos del autovalor, el valor final obtenido $(y_N)$ coincidirá, bajo una cierta tolerancia, con el valor impuesto por el problema $y(L) = cte$."
   ]
  },
  {
   "cell_type": "code",
   "execution_count": 42,
   "id": "748cf15f",
   "metadata": {
    "scrolled": true
   },
   "outputs": [
    {
     "name": "stdout",
     "output_type": "stream",
     "text": [
      "Los autovalores son [-1.13391874e+20 -1.94361717e+19  0.00000000e+00  2.51263299e+20]\n",
      "\n",
      "[[-0.          0.          1.          0.        ]\n",
      " [-0.47664503  0.69015706  0.         -0.54451148]\n",
      " [-0.31069671 -0.71167808  0.         -0.63006497]\n",
      " [ 0.82236067  0.13113941  0.         -0.55364735]]\n"
     ]
    }
   ],
   "source": [
    "import numpy as np\n",
    "import numpy.linalg as alg\n",
    "\n",
    "hbar=1\n",
    "M=1/2\n",
    "k=2\n",
    "\n",
    "def H_matriz(N,L,a):\n",
    "    \n",
    "    H=np.zeros([N,N],float)\n",
    "    for m in range(N):\n",
    "        for n in range(N):\n",
    "            \n",
    "            if n==0 or n==N-1:   # ponemos las condiciones de contorno\n",
    "                H[m,n]=0\n",
    "                        \n",
    "            else:\n",
    "                alpha=m-n\n",
    "                beta=m+n\n",
    "                if n==m:             \n",
    "                    H[m,n]=(m*np.pi**2*hbar**2)/L**2+L**2/3-L**2/(2*np.pi**2*m**2)\n",
    "\n",
    "                else:                     #vemos su paridad     \n",
    "                    if alpha%2==0:        #es par\n",
    "                        H[m,n]=(m*np.pi**2*hbar**2)/L**2+2*L**2/np.pi**2*(1/alpha**2-1/beta**2)\n",
    "                    else:\n",
    "                        H[m,n]=(m*np.pi**2*hbar**2)/L**2-2*L**2/np.pi**2*(1/alpha**2-1/beta**2)\n",
    "            #print('Fila=',m,', columna=',n,', Hmn=',H[m,n])\n",
    "    return(H)\n",
    "\n",
    "# Definimos los parámetros para crear la matriz H:\n",
    "N=4\n",
    "L=5e-10\n",
    "a=10\n",
    "\n",
    "H=H_matriz(N,L,a)\n",
    "\n",
    "E,V=alg.eigh(H)\n",
    "print('Los autovalores son',E)\n",
    "print()\n",
    "print(V)"
   ]
  },
  {
   "cell_type": "markdown",
   "id": "bdb2e936",
   "metadata": {},
   "source": [
    "#### 2. Tomando L = 6 calculad el espectro y las autofunciones de los primeros 10 niveles y comparad con los resultados exactos. Estudiar la dependencia con el tamaño de la caja L."
   ]
  },
  {
   "cell_type": "markdown",
   "id": "8cd91fd3",
   "metadata": {},
   "source": [
    "#### 3. Resolved el problema de autovalores para el siguiente potencial perturbado:\n",
    "$$V(x)=\\frac{1}{2}kx^2+\\lambda x^4$$\n",
    "#### donde $\\lambda<1$. Comparad el resultado para el estado fundamentalcon el que se obtiene del cálculo perturbativo:\n",
    "$$E_0(\\lambda)=1+\\frac{3}{4}\\lambda -\\frac{21}{16}\\lambda^2+...$$\n",
    "***Ayuda:*** Los polinomios de Hermite pueden calcularse mediante la siguiente fórmula de recurrencia:\n",
    "$$H_{n+1}(x)=2xH_n(x)-2nH_{n-1}(x)$$\n",
    "con $H_0(x)=1$ y $H_1(x)=2x$."
   ]
  }
 ],
 "metadata": {
  "kernelspec": {
   "display_name": "Python 3 (ipykernel)",
   "language": "python",
   "name": "python3"
  },
  "language_info": {
   "codemirror_mode": {
    "name": "ipython",
    "version": 3
   },
   "file_extension": ".py",
   "mimetype": "text/x-python",
   "name": "python",
   "nbconvert_exporter": "python",
   "pygments_lexer": "ipython3",
   "version": "3.9.9"
  }
 },
 "nbformat": 4,
 "nbformat_minor": 5
}
