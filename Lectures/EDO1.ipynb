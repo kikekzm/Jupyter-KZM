{
 "cells": [
  {
   "cell_type": "markdown",
   "id": "ffc96ff9",
   "metadata": {},
   "source": [
    "$\\Huge{\\text{Física Computacional}}$"
   ]
  },
  {
   "cell_type": "markdown",
   "id": "a1a60c69",
   "metadata": {},
   "source": [
    "# Tema 7: Ecuaciones Diferenciales Ordinarias.\n",
    "\n",
    "- Las ecuaciones diferenciales son el problema en física para el cual el uso de ordenadores es más común.\n",
    "- En este tema nos centraremos en las ecuaciones diferenciales ordinarias. \n",
    "- Las ecuaciones en derivadas parciales serán analizadas en el Tema 8. \n"
   ]
  },
  {
   "cell_type": "markdown",
   "id": "55e2aca2",
   "metadata": {},
   "source": [
    "## 7.1 Ecuaciones diferenciales de primer orden en una variable.\n",
    "\n",
    "- Son aquellas que sólo tienen una variable independiente, que de forma general asignaremos al tiempo $t$.\n",
    "- Por ejemplo la ecuación:\n",
    "\n",
    "$$\\frac{dx}{dt}=\\frac{2x}{t}.$$\n",
    "\n",
    "$\\quad$ es una ecuación diferencial de primer orden.\n",
    "\n",
    "- Sin embargo, mientras que esta ecuación se puede resolver de forma analítica porque es separable, la ecuación:\n",
    "\n",
    "$$\\frac{dx}{dt}=\\frac{2x}{t}+\\frac{x^2}{t^3},$$\n",
    "\n",
    "$\\quad$ es no separable y encima no lineal, lo que de forma general hace que este tipo de ecuaciones no sean resolubles analiticamente.\n",
    "\n",
    "- Estas son por tanto el tipo de ecuaciones diferenciales que sólo podemos resolver numericamente en un ordenador, que de forma general expresamos como:\n",
    "\n",
    "$$\\frac{dx}{dt}=f(x,t),$$\n",
    "\n",
    "$\\quad$ donde $f(x,t)$, la función dada, dependerá de forma general de $x$, la variable dependiente, y de $t$, la variable independiente.\n",
    "\n",
    "- La solución de las ecuaciones diferenciales requiere por supuesto fijar las concidiones iniciales/contorno, que por lo general asumiremos dada."
   ]
  },
  {
   "cell_type": "markdown",
   "id": "1efd935b",
   "metadata": {},
   "source": [
    "### 7.1.1 El método de Euler. "
   ]
  },
  {
   "cell_type": "markdown",
   "id": "1d55c7cb",
   "metadata": {},
   "source": [
    "- Es el método más sencillo e intuitivo, pero se usa muy raramente pues el método de Runge-Kutta es casi igual de sencillo y rápido, pero más preciso.\n",
    "\n",
    "\n",
    "- La idea es, una vez más, usar una serie de Taylor; si queremos saber el valor de $x$ en un tiempo $t+h$ hacemos:\n",
    "\n",
    "$$x(t+h)=x(t)+h\\frac{dx}{dt}+\\frac{1}{2}h^2\\frac{d^2x}{dt^2}+\\cdots=x(t)+h f(x,t)+{\\cal O}(h)^2.$$\n",
    "\n",
    "- Sabiendo el valor de $x$ para un tiempo $t$ esta ecuación nos permite calcular el valor de x un tiempo $x+h$ después. \n",
    "\n",
    "- Partiendo por tanto de nuestra condición inicial o de frontera, podemos iterar esta ecuación para obtener $x$ en un conjunto de puntos equiespaciados por una distancia $h$.\n",
    "\n",
    "- Si el valor de nuestro paso, $h$, es suficientemente pequeño, esto nos permitirá obtener una buena descripción de nuestra solución. "
   ]
  },
  {
   "cell_type": "markdown",
   "id": "996c65fa",
   "metadata": {},
   "source": [
    "**Ejercicio 7.1: El método de Euler**\n",
    "\n",
    "Aplicar el método de Euler para resolver la ecuación:\n",
    "\n",
    "$$\\frac{\\text{d}x}{\\text{d}t}=-x^3+\\sin t,$$\n",
    "\n",
    "en el intervalo $[0,10]$ usando 1000 puntos equiespaciados con la condición incial $x(t=0)=0$. "
   ]
  },
  {
   "cell_type": "code",
   "execution_count": 2,
   "id": "ecba3e86",
   "metadata": {},
   "outputs": [
    {
     "data": {
      "image/png": "[encoded data removed]",
      "text/plain": [
       "<Figure size 432x288 with 1 Axes>"
      ]
     },
     "metadata": {
      "needs_background": "light"
     },
     "output_type": "display_data"
    }
   ],
   "source": [
    "from numpy import linspace,sin\n",
    "from matplotlib.pyplot import plot,xlabel,ylabel,show\n",
    "\n",
    "# definimos nuestra función\n",
    "\n",
    "def f(x,t):\n",
    "    return -x**3+sin(t)\n",
    "\n",
    "# Constantes y parámetros del problema\n",
    "\n",
    "a=0               # comienzo del intervalo\n",
    "b=10              # final del intervalo\n",
    "N=1000            # número de pasos\n",
    "h=(b-a)/N         # paso\n",
    "x=0               # condición incial\n",
    "\n",
    "tp=linspace(a,b,N)\n",
    "xp=[]\n",
    "\n",
    "for t in tp:    \n",
    "    xp.append(x)\n",
    "    x+=h*f(x,t)\n",
    "    \n",
    "plot(tp,xp)    \n",
    "xlabel(\"t\")\n",
    "ylabel(\"x(t)\")\n",
    "show()"
   ]
  },
  {
   "cell_type": "markdown",
   "id": "7f3fd985",
   "metadata": {},
   "source": [
    "#### Error del método de Euler.\n",
    "\n",
    "- El error en el método de Euler queda patente a partir del desarrollo en serie de Taylor que hemos utilizado a la hora de construir la solución.\n",
    "\n",
    "- El error introducido en el paso incial $t+h$ es:\n",
    "\n",
    "$$\\Delta x(t+h)=\\frac{1}{2}h^2\\frac{\\text{d}^2 x}{\\text{d}\\,t^2}.$$\n",
    "\n",
    "- A primera vista podría parecer que es un error de segundo orden es decir, proporcional a $h^2$, \n",
    "  sin embargo, es sólo el error asociado a un paso.\n",
    "  \n",
    "- Partiendo de un punto inicial $t=a$ el error en el punto final del intervalo t=b, des pués de haber recorrido $N=(b-a)/h$ pasos de longitud $h$.  \n",
    "  el error acumulado en nuestra solución vendrá dado por la suma de los errores individuales de cada paso:\n",
    "\n",
    "$$\\sum_{k=0}^{N-1}\\frac{1}{2}h^2\\left(\\frac{\\text{d}^2x}{\\text{d}t^2}\\right)_{t=t_k}=\\frac{1}{2}h\\sum_{k=0}^{N-1}h\\left(\\frac{\\text{d} f(x,t)}{\\text{d}t}\\right)_{t=t_k}\\simeq \\frac{1}{2}h\\int\\limits_{a}^b \\frac{\\text{d}f(x,t)}{\\text{d}t}\\text{d}t=\\frac{1}{2}h\\left(f(x(b),b)-f(x(a),a)\\right),$$\n",
    "\n",
    "$\\quad$ donde hemos aproximado la suma por una integral, lo cual es una buena aproximación si $h$ es pequeño.\n",
    "\n",
    "- Aunque el error de cada paso es ${\\cal O}(h^2)$, el error final es lineal en $h$: para reducir el error por dos tenemos que duplicar el número de pasos."
   ]
  },
  {
   "cell_type": "markdown",
   "id": "49dd9c0a",
   "metadata": {},
   "source": [
    "**Final de la clase del 17/11/21**"
   ]
  }
 ],
 "metadata": {
  "kernelspec": {
   "display_name": "Python 3",
   "language": "python",
   "name": "python3"
  },
  "language_info": {
   "codemirror_mode": {
    "name": "ipython",
    "version": 3
   },
   "file_extension": ".py",
   "mimetype": "text/x-python",
   "name": "python",
   "nbconvert_exporter": "python",
   "pygments_lexer": "ipython3",
   "version": "3.8.8"
  }
 },
 "nbformat": 4,
 "nbformat_minor": 5
}
