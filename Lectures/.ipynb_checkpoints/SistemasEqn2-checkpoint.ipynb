{
 "cells": [
  {
   "cell_type": "markdown",
   "id": "72d533c0",
   "metadata": {},
   "source": [
    "$\\Huge{\\text{Física Computacional}}$"
   ]
  },
  {
   "cell_type": "markdown",
   "id": "5994f68b",
   "metadata": {},
   "source": [
    "# Tema 5: Soluciones de ecuaciones."
   ]
  },
  {
   "cell_type": "markdown",
   "id": "db6fb770",
   "metadata": {},
   "source": [
    "## 5.1 Soluciones de ecuaciones lineales."
   ]
  },
  {
   "cell_type": "markdown",
   "id": "b23ada95",
   "metadata": {},
   "source": [
    "### 5.1.3 Factorización LU."
   ]
  },
  {
   "cell_type": "markdown",
   "id": "1870531c",
   "metadata": {},
   "source": [
    "**Ejercicio 5.5:** Aplicar la descomposición LU a la matriz del ejercicio 5.1."
   ]
  },
  {
   "cell_type": "code",
   "execution_count": 8,
   "id": "3a370b56",
   "metadata": {},
   "outputs": [],
   "source": [
    "def LU(A):\n",
    "\n",
    "    from numpy import zeros,copy\n",
    "    \n",
    "    N=len(A)\n",
    "    \n",
    "# Inicialiazmos nuestras dos matrices. \n",
    "    L=zeros([N,N],float)     # L tiene que ser una matriz triangular inferior.\n",
    "    U=copy(A)                # U será la matriz A convertida en triangular superior.\n",
    "\n",
    "# Creamos la matrix L\n",
    "    for m in range(N):\n",
    "        L[m:N,m] = U[m:N,m] # para cada iteracción (para cada fila), \n",
    "                            # la columna m de L queda fijada por el valor que tiene U.                  \n",
    "            \n",
    "        # Convetimos ahora U en una matrix triangular superior.\n",
    "        # Para ello usamos la eliminación guassiana.    \n",
    "        \n",
    "        # 1. Dividimos la fila m por el elemento m,m\n",
    "        div=U[m,m]\n",
    "        U[m,:]/=div\n",
    "        \n",
    "        # 2. Sustraemos la fila m a las filas i>m multiplicadas por el elemento i,m\n",
    "        for i in range(m+1,N):\n",
    "            mult=U[i,m]\n",
    "            U[i,:]-= mult*U[m,:]\n",
    "            \n",
    "    return L,U"
   ]
  },
  {
   "cell_type": "code",
   "execution_count": 9,
   "id": "023ccc61",
   "metadata": {},
   "outputs": [
    {
     "name": "stdout",
     "output_type": "stream",
     "text": [
      "[[  2.    0.    0.    0. ]\n",
      " [  3.    2.5   0.    0. ]\n",
      " [  1.   -4.5 -13.6   0. ]\n",
      " [  2.   -3.  -11.4  -1. ]]\n",
      "\n",
      "[[ 1.   0.5  2.   0.5]\n",
      " [ 0.   1.  -2.8 -1. ]\n",
      " [-0.  -0.   1.  -0. ]\n",
      " [-0.  -0.  -0.   1. ]]\n",
      "\n",
      "[[ 2.  1.  4.  1.]\n",
      " [ 3.  4. -1. -1.]\n",
      " [ 1. -4.  1.  5.]\n",
      " [ 2. -2.  1.  3.]]\n",
      "\n",
      "[[ 2.  1.  4.  1.]\n",
      " [ 3.  4. -1. -1.]\n",
      " [ 1. -4.  1.  5.]\n",
      " [ 2. -2.  1.  3.]]\n"
     ]
    }
   ],
   "source": [
    "# Definimos nuestra matriz\n",
    "from numpy import dot\n",
    "\n",
    "A=array([[2,1,4,1],[3,4,-1,-1],[1,-4,1,5],[2,-2,1,3]],float)\n",
    "\n",
    "# Generamos las matrices L y U y comprobamos que son como deberían ser.\n",
    "L,U=LU(A)\n",
    "print(L)\n",
    "print()\n",
    "print(U)\n",
    "print()\n",
    "\n",
    "# Comprabamos que L U es efectivamente A.\n",
    "print(dot(L,U))\n",
    "print()\n",
    "print(A)"
   ]
  },
  {
   "cell_type": "code",
   "execution_count": 10,
   "id": "09599fcd",
   "metadata": {},
   "outputs": [],
   "source": [
    "# programa que usa las matrices LU\n",
    "# para resolver un sistema de ecuaciones\n",
    "\n",
    "def LU_sol(L,U,V):\n",
    "\n",
    "    from numpy import empty\n",
    "    N=len(V)\n",
    "\n",
    "    # 1. Sustitución hacía adelante. Operando con L.\n",
    "    y=empty(N,float)\n",
    "    \n",
    "    for m in range(N):\n",
    "        y[m]=V[m]\n",
    "        for i in range(m):\n",
    "            y[m]-= L[m,i]*y[i]\n",
    "        y[m]/=L[m,m]\n",
    "    \n",
    "    # 2. Sustitución hacía atrás. Operando con U.\n",
    "    x=empty(N,float)\n",
    "    \n",
    "    for m in range(N-1,-1,-1):\n",
    "        x[m]=y[m]\n",
    "        for i in range(m+1,N):\n",
    "            x[m]-=U[m,i]*x[i]\n",
    "            \n",
    "    return(x)"
   ]
  },
  {
   "cell_type": "code",
   "execution_count": 11,
   "id": "ffd95cf3",
   "metadata": {},
   "outputs": [
    {
     "name": "stdout",
     "output_type": "stream",
     "text": [
      "[ 2. -1. -2.  1.]\n"
     ]
    }
   ],
   "source": [
    "V=array([-4,3,9,7],float)\n",
    "print(LU_sol(L,U,V))"
   ]
  },
  {
   "cell_type": "markdown",
   "id": "ab17abfe",
   "metadata": {},
   "source": [
    "**Ejercicio 5.6:** Aplicar la descomposición LU incluyendo el pivote a la matriz del ejercicio 5.1.\n",
    "\n",
    "(**Ayuda:** al no estar usando en este caso la matriz extendida es necesario almacenar la información de que columnas se han ido intercambiando en cada paso)."
   ]
  },
  {
   "cell_type": "code",
   "execution_count": 12,
   "id": "f3dc6838",
   "metadata": {},
   "outputs": [],
   "source": [
    "def LU_pivot(A):\n",
    "\n",
    "    from numpy import zeros,copy,empty\n",
    "    \n",
    "    N=len(A)\n",
    "    \n",
    "# Inicialiazmos nuestras dos matrices. \n",
    "    L=zeros([N,N],float)     # L tiene que ser una matriz triangular inferior.\n",
    "    U=copy(A)                # U será la matriz A convertida en triangular superior.\n",
    "    P=empty(N,int)           # matriz con los índices del pivotaje\n",
    "                             # de esta forma luego se los podemos aplicar a V.\n",
    "    \n",
    "# Creamos la matrix L\n",
    "    for m in range(N):\n",
    "        L[m:N,m] = U[m:N,m] # para cada iteracción (para cada fila), \n",
    "                            # la columna m de L queda fijada por el valor que tiene U.\n",
    "        \n",
    "    \n",
    "        \n",
    "        # Convetimos U en una matrix triangular superior.\n",
    "        # Para ello usamos la eliminación guassiana con pivote.\n",
    "        \n",
    "        # 1. Buscamos el pivote.\n",
    "        pivot=m\n",
    "        largest=abs(U[m,m])\n",
    "        for i in range(m+1,N):\n",
    "            if abs(U[i,m])>largest:\n",
    "                largest=abs(U[i,m])\n",
    "                pivot=i\n",
    "\n",
    "        # 2. Intercambiamos la fila del pivote por la fila m.\n",
    "        for i in range(N):\n",
    "            U[m,i],U[pivot,i]=U[pivot,i],U[m,i]\n",
    "            L[m,i],L[pivot,i]=L[pivot,i],L[m,i] # hay que aplicar el mismo cambio a L\n",
    "        P[m]= pivot                             # guardamos en la fila m \n",
    "                                                # con que la hemos intercambiado\n",
    "        \n",
    "        # 3. Dividimos la fila m por el elemento m,m\n",
    "        div=U[m,m]\n",
    "        U[m,:]/=div\n",
    "        \n",
    "        # 4. Sustraemos la fila m a las filas i>m multiplicadas por el elemento i,m\n",
    "        for i in range(m+1,N):\n",
    "            mult=U[i,m]\n",
    "            U[i,:]-= mult*U[m,:]\n",
    "            \n",
    "    return L,U,P"
   ]
  },
  {
   "cell_type": "code",
   "execution_count": 13,
   "id": "f2e0830b",
   "metadata": {},
   "outputs": [],
   "source": [
    "def LU_pivot_solve(L,U,P,V):\n",
    "    \n",
    "    from numpy import empty\n",
    "    N=len(V)\n",
    "\n",
    "    # 1. Le aplicamos a V todos los cambios de pivotaje que hemos hecho.\n",
    "    for m in range(N):\n",
    "        pivot=P[m]\n",
    "        V[m],V[pivot]=V[pivot],V[m]\n",
    "    \n",
    "    # 2. Sustitución hacía adelante. Operando con L.\n",
    "    y=empty(N,float)\n",
    "    \n",
    "    for m in range(N):\n",
    "        y[m]=V[m]\n",
    "        for i in range(m):\n",
    "            y[m]-= L[m,i]*y[i]\n",
    "        y[m]/=L[m,m]\n",
    "    \n",
    "    # 3. Sustitución hacía atrás. Operando con U.\n",
    "    x=empty(N,float)\n",
    "    \n",
    "    for m in range(N-1,-1,-1):\n",
    "        x[m]=y[m]\n",
    "        for i in range(m+1,N):\n",
    "            x[m]-=U[m,i]*x[i]\n",
    "            \n",
    "    return(x)"
   ]
  },
  {
   "cell_type": "code",
   "execution_count": 14,
   "id": "7d9e11bc",
   "metadata": {},
   "outputs": [
    {
     "name": "stdout",
     "output_type": "stream",
     "text": [
      "[ 1.61904762 -0.42857143 -1.23809524  1.38095238]\n"
     ]
    }
   ],
   "source": [
    "# Definimos nuestra matriz\n",
    "A=array([[0,1,4,1],[3,4,-1,-1],[1,-4,1,5],[2,-2,1,3]],float)\n",
    "V=array([-4,3,9,7],float)\n",
    "L,U,P=LU_pivot(A)\n",
    "x=LU_pivot_solve(L,U,P,V)\n",
    "print(x)"
   ]
  },
  {
   "cell_type": "markdown",
   "id": "1a8ee11d",
   "metadata": {},
   "source": [
    "- Como era de esperar python ya tiene incorporada una rutina para resolver un sistema de ecuaciones. \n",
    "- La descomposición LU se usa en la función solve del módulo linalg del paquete numpy."
   ]
  },
  {
   "cell_type": "code",
   "execution_count": 15,
   "id": "0a482ae8",
   "metadata": {},
   "outputs": [
    {
     "name": "stdout",
     "output_type": "stream",
     "text": [
      "[ 1.61904762 -0.42857143 -1.23809524  1.38095238]\n",
      "\n"
     ]
    }
   ],
   "source": [
    "from numpy.linalg import solve\n",
    "A=array([[0,1,4,1],[3,4,-1,-1],[1,-4,1,5],[2,-2,1,3]],float)\n",
    "V=array([-4,3,9,7],float)\n",
    "print(solve(A,V))\n",
    "print()"
   ]
  },
  {
   "cell_type": "markdown",
   "id": "9878971b",
   "metadata": {},
   "source": [
    "#### Contando el número de operaciones de la descomposición LU.\n",
    "\n",
    "- La descomposición LU es un cálculo computacionalmente pesado. \n",
    "\n",
    "**Ejercicio 5.7:** Calcular el número de operaciones necesarias para realizar la descomposición LU.\n",
    "\n",
    "1. Para la primera fila, dividimos cada columna por el primer elemento, y se la restamos a las demás filas multiplicadas por el primer elemento de cada una de ellas:\n",
    "\n",
    "$$N+(N-1)\\cdot2N=N(2N-1).$$\n",
    "\n",
    "2. Para la segunda fila, repetimos el procedimiento pero empezando en la segunda columna:\n",
    "\n",
    "$$N-1+(N-2)\\cdot 2(N-1)=(N-1)\\cdot (2N-3).$$\n",
    "\n",
    "3. Para la fila i-esima:\n",
    "\n",
    "$$N-i+(N-i)\\cdot 2(N-i)=(N-i)\\cdot (2N-(2i-1)).$$\n",
    "\n",
    "4. Sumando todos los términos:\n",
    "\n",
    "$$\\# \\text{operaciones}_{LU}=\\sum_{i=1}^N{(N-i)\\,(2N-(2i-1))}=\\frac{2}{3}N^3-\\frac{N}{6}(3N+2)\\sim \\frac{2}{3}N^3$$"
   ]
  },
  {
   "cell_type": "markdown",
   "id": "49489f0f",
   "metadata": {},
   "source": [
    "### 5.1.4 La inversa de una matriz.\n",
    "\n",
    "- La matriz de inversa se calcula como:\n",
    "\n",
    "$$A^{-1}=\\frac{1}{\\det(A)}\\left[C\\right]^T$$\n",
    "\n",
    "$\\quad$ con $C_{ij}$ el cofactor de $A_{ij}$.\n",
    "\n",
    "- Sin embargo su aplicación directa es computacionalmente pesada.\n",
    "- Además, conlleva errores de redondeo que pueden ser no despreciables. \n",
    "\n",
    "- En aquellos casos donde sea necesario calcularla el procedimiento es resolver el sistema:\n",
    "\n",
    "$$A\\cdot A^{-1}=I$$\n",
    "\n",
    "$\\quad$ aplicando la eliminación gaussiana o la descomposición LU a cada una de las columnas de $A^{-1}$ y de $I$."
   ]
  },
  {
   "cell_type": "markdown",
   "id": "c9bdd344",
   "metadata": {},
   "source": [
    "**Ejercicio 5.8:** Encontrar la inversa de la matriz del ejercicio 5.1 usando el método que se prefiera. "
   ]
  },
  {
   "cell_type": "code",
   "execution_count": 16,
   "id": "c90b7711",
   "metadata": {},
   "outputs": [],
   "source": [
    "A=array([[2,1,4,1],[3,4,-1,-1],[1,-4,1,5],[2,-2,1,3]],float)\n",
    "L,U=LU(A)\n",
    "N=len(A)\n",
    "Ainv=zeros([N,N],float)\n",
    "\n",
    "for i in range(N):\n",
    "    I=zeros(N,float)\n",
    "    I[i]=1\n",
    "    Ainv[:,i]=LU_sol(L,U,I)"
   ]
  },
  {
   "cell_type": "code",
   "execution_count": 17,
   "id": "c4a425da",
   "metadata": {},
   "outputs": [
    {
     "name": "stdout",
     "output_type": "stream",
     "text": [
      "[[ 1.  0.  0.  0.]\n",
      " [ 0.  1.  0.  0.]\n",
      " [-0. -0.  1.  0.]\n",
      " [-0.  0.  0.  1.]]\n"
     ]
    }
   ],
   "source": [
    "from numpy import set_printoptions    \n",
    "set_printoptions(precision=2)\n",
    "set_printoptions(suppress=True)\n",
    "\n",
    "print(dot(A,Ainv))"
   ]
  },
  {
   "cell_type": "markdown",
   "id": "a0940d72",
   "metadata": {},
   "source": [
    "### 5.1.5 Matrices tridiagonales y matrices banda. \n",
    "\n",
    "- En física es muy común encontrar sistemas de ecuaciones:\n",
    "\n",
    "$$A\\cdot X=B,$$\n",
    "\n",
    "$\\quad$ con A siendo una matriz tridiagonal, es decir:\n",
    "\n",
    "$$A=\\left(\n",
    "\\begin{array}{llllll}\n",
    "a_{11}&a_{12}&      &           &          &          \\nonumber\\\\\n",
    "a_{21}&a_{22}&a_{23}&           &          &          \\nonumber\\\\\n",
    "      &a_{32}&a_{33}&a_{34}     &          &          \\nonumber\\\\\n",
    "      &      &\\ddots&\\ddots     &\\!\\!\\!\\ddots    &          \\nonumber\\\\\n",
    "      &      &      & a_{n-2n-1}&a_{n-1n-1}&a_{n-1n} \\nonumber\\\\\n",
    "      &      &      &           &a_{nn-1}  &a_{nn}\\nonumber\\\\\n",
    "\\end{array}\\right)$$\n",
    "\n",
    "$\\quad$ donde todos los elementos que no aparecen son cero.\n",
    "\n",
    "- Por ejemplo en el algoritmo para definir los splines cúbicos o en general en todos aquellos sistemas donde sólo hay interacciones entre vecinos. \n",
    "\n",
    "- Los problemas tridiagonales son perfectos para aplicar la eliminación gaussiana, y su algoritmo pueden simplificarse con respecto al general.\n",
    "\n",
    "- La idea es que para un paso dado de la eliminación gaussiana (para una fila dada),   \n",
    "  no es necesario recorrer todas las demás, sólo la siguiente. \n",
    "  \n",
    "- De la misma forma en la sustitución hacía atrás, la ecuación para la variable $x_n$ sólo involucrará a $x_{n+1}$.\n",
    "\n",
    "- Las matrices banda son aquellas en las que:\n",
    "\n",
    "$$a_{ij}=0\\quad\\text{si}\\quad j<i-k_1\\quad||\\quad j>i+k_2\\quad \\text{con}\\quad k_1, k_2>0.$$\n",
    "\n",
    "- El algoritmo para resolverlas será igual al de las matrices tridiagonales pero recorriendo en cada paso las $k_1$ filas siguientes.  \n"
   ]
  },
  {
   "cell_type": "markdown",
   "id": "f7031026",
   "metadata": {},
   "source": [
    "**Ejercicio 5.9:** La vibracion en un sistema unidimensional.\n",
    "\n",
    "Sea un sistema de $N$ particulas idénticas en una dimensión unidas por muelles.\n",
    "Una vez desplazado del equilibrio, cada una de las partículas vibrará con respecto a las demás debido a los muelles. \n",
    "\n",
    "(Este modelo describe de forma bastante precisa la vibración de los atómos en algunos sólidos.)\n",
    "\n",
    "La dinámica de este sistema viene dada por la ecuaciones de Newton. \n",
    "Llamando $x_{i}$ el desplazamiento de la particula $i$ con respecto a su posición de reposo, la segunda ley impone:\n",
    "\n",
    "\\begin{align}\n",
    "m\\,\\ddot x_1 =&\\; k \\;(x_{2}-x_1)+F_1,\\nonumber\\\\\n",
    "m\\,\\ddot x_i =&\\; k \\;(x_{i+1}-x_i) +k\\;(x_{i-1}-x_{i})+F_i,\\;\\text{con}\\;1<i<N,\\nonumber\\\\\n",
    "m\\,\\ddot x_N =&\\; k \\;(x_{N-1}-x_N)+F_N,\\nonumber\\\\\n",
    "\\end{align}\n",
    "\n",
    "siendo $m$ la masa de las partículas, $k$ la constante del muelle y $F_i$ cualquier fuerza externa aplicada sobre la partícula $i$. \n"
   ]
  },
  {
   "cell_type": "code",
   "execution_count": 71,
   "id": "4f10f1bb",
   "metadata": {},
   "outputs": [
    {
     "data": {
      "image/png": "[encoded data removed]",
      "text/plain": [
       "<IPython.core.display.Image object>"
      ]
     },
     "metadata": {},
     "output_type": "display_data"
    }
   ],
   "source": [
    "from IPython.display import display,Image\n",
    "display(Image(filename='spring.png'))\n"
   ]
  },
  {
   "cell_type": "markdown",
   "id": "c28fca33",
   "metadata": {},
   "source": [
    "Asumamos ahora que accionamos el sistema al aplicar una fuerza armónica (sinusoidal) sobre la primera partícula de la forma:\n",
    "\n",
    "$$F_1=C \\text{e}^{i\\,\\omega\\,t},$$\n",
    "\n",
    "siendo $C$ una constante y $\\omega$ la frecuencia de oscilación (empleamos la forma compleja para simplificar los cálculos entendiendo que al final tomaremos la parte real).\n",
    "\n",
    "La consecuencia de aplicar esta fuerza será que el sistema oscilará con la frecuencia $w$, \n",
    "de forma que la posición de cada partícula vendrá dada por:\n",
    "\n",
    "$$x_i=a_i\\,\\text{e}^{i\\,\\omega\\,t},$$\n",
    "\n",
    "siendo $a_i$ la amplitud del movimiento de la partícula $i$. \n",
    "\n",
    "Introduciendo la solución en las ecuaciones de Newton obtenemos:\n",
    "\n",
    "\\begin{align}\n",
    "-m\\,\\omega^2 a_1 =&\\; k \\;(a_{2}-a_1)+C,\\nonumber\\\\\n",
    "-m\\,\\omega^2 a_i =&\\; k \\;(a_{i+1}-a_i) +k\\;(a_{i-1}-a_{i}),\\quad\\text{con}\\;1<i<N,\\nonumber\\\\\n",
    "-m\\,\\omega^2 a_N =&\\; k \\;(a_{N-1}-a_N),\\nonumber\\\\\n",
    "\\end{align} \n",
    "\n",
    "que, simplificando, pueden escribirse como:\n",
    "\n",
    "\\begin{align}\n",
    "(k-\\alpha)\\,a_1 +k\\,a_2=&C,\\nonumber\\\\\n",
    "-k\\,a_{i-1}+\\alpha\\,a_i-k\\,x_{i+1}=&0,\\quad\\text{con}\\;1<i<N,\\nonumber\\\\\n",
    " -k\\,a_{N-1}+(\\alpha-k)\\,a_N=&0,\\nonumber\\\\\n",
    "\\end{align} \n",
    "\n",
    "con $\\alpha=2k-m\\,\\omega^2$ que en notación matricial toma la forma:\n",
    "\n",
    "$$\\left(\n",
    "\\begin{array}{llllll}\n",
    "(\\alpha-k)&-k&      &           &          &          \\nonumber\\\\\n",
    "-k&\\alpha&-k&           &          &          \\nonumber\\\\\n",
    "      &a-k&\\alpha&-k     &          &          \\nonumber\\\\\n",
    "      &      &\\ddots&\\ddots     &\\ddots    &          \\nonumber\\\\\n",
    "      &      &      & -k&\\alpha&-k \\nonumber\\\\\n",
    "      &      &      &           &-k  &(\\alpha-k)\\nonumber\\\\\n",
    "\\end{array}\\right)\\cdot\\left(\n",
    "\\begin{array}{c}\n",
    "x_1\\nonumber\\\\\n",
    "x_2\\nonumber\\\\\n",
    "x_3\\nonumber\\\\\n",
    "\\vdots\\nonumber\\\\\n",
    "x_{N-1}\\nonumber\\\\\n",
    "x_{N}\\nonumber\\\\\n",
    "\\end{array}\\right)=\\left(\n",
    "\\begin{array}{c}\n",
    "C\\nonumber\\\\\n",
    "0\\nonumber\\\\\n",
    "0\\nonumber\\\\\n",
    "\\vdots\\nonumber\\\\\n",
    "0\\nonumber\\\\\n",
    "0\\nonumber\\\\\\end{array}\n",
    "\\right),\n",
    "$$\n",
    "\n",
    "1. Para un sistema con N=30 partículas de masa m=1 Kg, ligadas por muelles con constantes de elasticidad $k=5$ N/m, y que sufren una fuerza armónica de módulo 1 N con frecuencia angular $\\omega=2$ rad/s calcular la posición de cada una de las partículas con respecto a su posición de equilibrio. \n",
    "\n",
    "   Para ello escribir un programa que optimice la eliminación gaussiana para el caso de tener una matriz tridiagonal.\n",
    "   \n",
    "   \n",
    "2. Generalizar el programa para el caso de tener una matriz banda con $up$ elementos no nulos por encima de la diagonal y $down$ por debajo."
   ]
  },
  {
   "cell_type": "code",
   "execution_count": 18,
   "id": "6129d78b",
   "metadata": {},
   "outputs": [],
   "source": [
    "# programa que optimiza la eliminación gussiana para matrices tridiagonales.\n",
    "\n",
    "def tridiagonal_gaussian(A,v):\n",
    "    N=len(v)\n",
    "    \n",
    "    for i in range(N-1):\n",
    "        # 1. Dividimos la fila por su primer elemento\n",
    "        #    sólo tenemos que hacerlo con el elemento a la derecha\n",
    "        #    no hace falta que mandemos el elmento A[i,i] a 1-\n",
    "        #    Es suficiente con tenerlo en cuenta al hacer la eliminación hacía atrás.\n",
    "        \n",
    "\n",
    "        A[i,i+1]/=A[i,i]    \n",
    "        v[i]/=A[i,i]\n",
    "        \n",
    "        # 2. Le sustraemos a la fila i+1 la fila i multiplicada por A[i+1,i]\n",
    "        \n",
    "        A[i+1,i+1]-=A[i+1,i]*A[i,i+1]   # no hace falta mandar el elmento A[i+1,i] a cero\n",
    "        v[i+1]-=A[i+1,i]*v[i]           # es suficiente asumirlo \n",
    "                                        # en la sustitución hacía atrás\n",
    "   \n",
    "    # 3. Nuestro for va hasta N-2, sólo nos falta operar sobre el último elemento de V\n",
    "    v[N-1]/=A[N-1,N-1]\n",
    "    \n",
    "    # 4. Sustitución hacía atrás.\n",
    "    x=zeros(N,float)\n",
    "    x[N-1]=v[N-1]\n",
    "    for i in range(N-2,-1,-1):\n",
    "        x[i]=v[i]-A[i,i+1]*x[i+1]\n",
    "    return x"
   ]
  },
  {
   "cell_type": "code",
   "execution_count": 19,
   "id": "88f765af",
   "metadata": {},
   "outputs": [],
   "source": [
    "from numpy import zeros\n",
    "\n",
    "# Definimos las constantes del sistema\n",
    "\n",
    "N=30\n",
    "C=1\n",
    "m=1\n",
    "k=5\n",
    "omega=2\n",
    "\n",
    "alpha=2*k-m*omega**2\n",
    "\n",
    "# Inicializamos nuestra matriz y la matriz V\n",
    "\n",
    "A=zeros([N,N],float)\n",
    "v=zeros(N,float)\n",
    "\n",
    "for i in range(N-1):   \n",
    "    A[i,i]=alpha                  # Dado el valor de un elemento de la diagonal.\n",
    "    A[i+1,i],A[i,i+1]=-k,-k       # le damos valores al elemento arriba y a la izquierda.\n",
    "\n",
    "A[0,0]+=-k                        # El primer y el último elemento son diferentes.\n",
    "A[N-1,N-1]=alpha-k\n",
    "v[0]=C                            # El único elemento no nulo de V es el primero.\n",
    "\n",
    "x=tridiagonal_gaussian(A,v)"
   ]
  },
  {
   "cell_type": "code",
   "execution_count": 20,
   "id": "7f2ef9f2",
   "metadata": {},
   "outputs": [
    {
     "data": {
      "image/png": "[encoded data removed]",
      "text/plain": [
       "<Figure size 432x288 with 1 Axes>"
      ]
     },
     "metadata": {
      "needs_background": "light"
     },
     "output_type": "display_data"
    }
   ],
   "source": [
    "from matplotlib.pyplot import plot,show\n",
    "\n",
    "plot(x)\n",
    "plot(x,\"ro\")\n",
    "show()"
   ]
  },
  {
   "cell_type": "code",
   "execution_count": 21,
   "id": "8d6cb905",
   "metadata": {},
   "outputs": [],
   "source": [
    "# Para optimizar el código, una matriz a banda con up=2 y down =2 estará escrita como:\n",
    "\n",
    "# ( -    -  A02 A13 A24 ...\n",
    "# ( -   A01 A12 A23 A34 ...\n",
    "# ( A00 A11 A22 A33 A44 ...\n",
    "# ( A10 A21 A32 A43 A54 ...\n",
    "# ( A20 A31 A42 A53 A64 ...\n",
    "\n",
    "# donde los elementos con guiones no son relevantes para el cálculo.\n",
    "# Es decir, los elementos de la diagonal están en la fila up, \n",
    "# y el número de filas será 1+up+down.\n",
    "# el número de columnas será N. \n",
    "\n",
    "def band_gaussian(A,v,up,down):\n",
    "\n",
    "    N = len(v)\n",
    "\n",
    "    # Aplicamos la eliminación gaussiana\n",
    "    for m in range(N):\n",
    "\n",
    "        # dividimos por el elemento m de la diagonal \n",
    "        # que en nuestra interpretación es el elemento A[up,m]\n",
    "        div = A[up,m]\n",
    "\n",
    "        # Actualizamos el vector v dividiendo por div, \n",
    "        # y sustrayendo los elementos por debajo.\n",
    "        v[m] /= div\n",
    "        for k in range(1,down+1):          # para todos los elemementos por debajo down veces                      \n",
    "            if m+k<N:                      # del elemento m de la diagonal\n",
    "                v[m+k] -= A[up+k,m]*v[m]   # procedemos con la eliminación gaussiana\n",
    "\n",
    "        # Ahora aplicamos la sustracción a los elementos de A. \n",
    "        \n",
    "        for i in range(up):\n",
    "            j = m + up - i\n",
    "            if j<N:\n",
    "                A[i,j] /= div\n",
    "                for k in range(1,down+1):\n",
    "                    A[i+k,j] -= A[up+k,m]*A[i,j]\n",
    "\n",
    "    # Finalmente hacemos la sustitucioń hacía\n",
    "    for m in range(N-2,-1,-1):\n",
    "        for i in range(up):\n",
    "            j = m + up - i\n",
    "            if j<N:\n",
    "                v[m] -= A[i,j]*v[j]\n",
    "\n",
    "    return v"
   ]
  },
  {
   "cell_type": "code",
   "execution_count": 22,
   "id": "a8d8da54",
   "metadata": {},
   "outputs": [],
   "source": [
    "# Creamos nuestra matriz banda siguiendo la notacioń\n",
    "A_band=zeros([3,N],float)\n",
    "v=zeros(N,float)\n",
    "\n",
    "A_band[0,:]=-k\n",
    "A_band[1,:]=alpha\n",
    "A_band[2,:]=-k\n",
    "\n",
    "A_band[1,0]=alpha-k\n",
    "A_band[1,N-1]=alpha-k\n",
    "\n",
    "v[0]=C\n",
    "\n",
    "x2= band_gaussian(A_band,v,1,1)"
   ]
  },
  {
   "cell_type": "code",
   "execution_count": 23,
   "id": "f64e0296",
   "metadata": {},
   "outputs": [
    {
     "data": {
      "image/png": "[encoded data removed]",
      "text/plain": [
       "<Figure size 432x288 with 1 Axes>"
      ]
     },
     "metadata": {
      "needs_background": "light"
     },
     "output_type": "display_data"
    }
   ],
   "source": [
    "plot(x2)\n",
    "plot(x,\"ro\")\n",
    "show()"
   ]
  },
  {
   "cell_type": "markdown",
   "id": "dc2d3793",
   "metadata": {},
   "source": [
    "### 5.1.6 Métodos iterativos para ecuaciones lineales.\n",
    "\n",
    "- La factorización LU conlleva $\\frac{2}{3}N^3$ operaciones, lo que para sistemas de ecuaciones grandes puede ser muy costoso computacionalmente. \n",
    "\n",
    "- Como alternativa, se suelen usar los métodos iterativos, que en general sólo son practicos en ciertas situaciones, por ejemplo con matrices con muchos elementos no diagonales nulos.\n",
    "\n",
    "#### El método de Jacobi.\n",
    "\n",
    "- El método de Jacobi se basa en descomponer una matriz cuyos elementos diagonales no sean nulos (hay que aplicar el pivote si no es el caso) en:\n",
    "\n",
    "$$A=D+L+U$$\n",
    "\n",
    "$\\quad$ donde $D$ es diagonal y $L/U$ sólo tiene elementos no nulos por debajo/encima de la diagonal.\n",
    "\n",
    "- Por tanto el sistema de ecuaciones $A\\cdot x=v$ se puede escribir como\n",
    "\n",
    "$$A\\cdot x=(D+L+U)\\cdot x =v\\quad\\Rightarrow\\quad D\\cdot x =v-(L+U)\\cdot x,$$\n",
    "\n",
    "- Como D no tiene determinante nulo, es invertibles y por tanto:\n",
    "\n",
    "$$x =D^{-1}\\left(v-(L+U)\\cdot x\\right)\\quad\\Rightarrow\\quad x_i=\\,\\frac{1}{a_{ii}}\\left(v_i-\\sum_{j\\neq i}{a_{ij}\\,x_j}\\right),\\quad\\text{con}\\quad i=1\\cdots N.$$\n",
    "\n",
    "- En vez de buscar la solución exacta, la ecuación permite desarrollar un método iterativo.\n",
    "- Definiendo un punto de partida $x^{(0)}$, por ejemplo $x^{(0)}=0$ si no hay más información, obtenemos para la estimación $k$-esima es:\n",
    "\n",
    "$$x_i^{k+1}=\\,\\frac{1}{a_{ii}}\\left(v_i-\\sum_{j\\neq i}{a_{ij}\\,x_j^k}\\right),$$\n",
    "\n",
    "- Sin embargo el sistema sólo convergerá si se cumple la condición:\n",
    "\n",
    "$$\\left\\vert\\, D^{-1}\\cdot(L+U)\\,\\right\\vert <1\\quad\\Rightarrow\\quad a_{ii} > \\sum_{j\\neq i} \\vert a_{ij}\\vert.$$"
   ]
  },
  {
   "cell_type": "markdown",
   "id": "a026f89b",
   "metadata": {},
   "source": [
    "**Ejercicio 5.10:** Aplicar el método de Jacobi al sistema de ecuaciones:\n",
    "\n",
    "\\begin{align}\n",
    "8\\,w +   x+2\\,y+   z=&-1,\\nonumber\\\\\n",
    "\\,w +5\\,x-   y-   z=& 3,\\nonumber\\\\\n",
    "   w -4\\,x+   6y+\\,z=& 2,\\nonumber\\\\\n",
    "\\,w -2\\,x+   y+5\\,z=& 1.\\nonumber\\\\\n",
    "\\end{align}\n",
    "\n",
    "Calcular el número de iteracciones necesarias para obtener una precision mayor de $10^{-6}$."
   ]
  },
  {
   "cell_type": "code",
   "execution_count": 24,
   "id": "19bb577e",
   "metadata": {},
   "outputs": [],
   "source": [
    "from numpy import zeros,diag,diagflat,dot,copy\n",
    "\n",
    "def jacobi(A,v,eps):\n",
    "\n",
    "    # eps es el error de convergencia        \n",
    "    N=len(v)\n",
    "    # Creamos nuestra descompsición D,L,U\n",
    "    D=diag(A)                # diag crea un vector con los elementos de la diagonal\n",
    "    LU=A-diagflat(D)         # diagflat crea una matriz diagonal cuyo argumento es un vector.\n",
    "    x0=zeros(N,float)         # creamos la primera estimación de X    \n",
    "    err=1e6\n",
    "    it=0\n",
    "    while err>eps:\n",
    "        x=(V-dot(LU,x0))/D        # iteramos con X\n",
    "        err=abs(max(x-x0))\n",
    "        x0=copy(x)\n",
    "        it+=1\n",
    "    return x,it"
   ]
  },
  {
   "cell_type": "code",
   "execution_count": 29,
   "id": "a519f0ba",
   "metadata": {},
   "outputs": [
    {
     "name": "stdout",
     "output_type": "stream",
     "text": [
      "[-0.57  1.02  1.02  0.52], [-0.57  1.02  1.02  0.52]\n",
      "El número de itracciones del método de jacobi es:  25\n"
     ]
    }
   ],
   "source": [
    "A=array([[8,1,2,1],[1,5,-1,-1],[1,-4,6,1],[1,-2,1,5]],float)\n",
    "V=array([-1,3,2,1],float)\n",
    "x1,it=jacobi(A,V,1e-6)\n",
    "x2,AB=gaussian_elim(A,V)\n",
    "print(x1,x2,sep=\", \")\n",
    "print(\"El número de itracciones del método de jacobi es: \",it)"
   ]
  },
  {
   "cell_type": "markdown",
   "id": "46f26ffd",
   "metadata": {},
   "source": [
    "#### Método de Gauss-Seidel\n",
    "\n",
    "- Corresponde a una variación del método de Jacobi, consistente en notar que la matrix D+L, es triangular inferior y por tanto se puede resolver por sustitución hacía adelante:\n",
    "\n",
    "$$(L+D)\\cdot x= v-U\\cdot x,$$\n",
    "\n",
    "- Por tanto, partiendo de una estimación inicial para x, podemos resolver el sistema exactamente, lo que nos permite acelerar la convergencia del método de jacobi.\n",
    "\n",
    "$$x_i^{k+1}=\\,\\frac{1}{a_{ii}}\\left(v_i-\\sum_{j=1}^{i-1}{a_{ij}\\,x_j^{k+1}}-\\sum_{j=i+1}^{N}{a_{ij}\\,x_j^{k}}\\right),$$\n",
    "\n",
    "$\\quad$ que converge si\n",
    "\n",
    "$$\\left\\vert\\, (D+L)^{-1}\\cdot U\\, \\right\\vert<1,$$\n",
    "\n",
    "$\\quad$ condiciones que se cumplen si A es positiva definida o dominada por los elementos de la diagonal. "
   ]
  },
  {
   "cell_type": "markdown",
   "id": "9928263a",
   "metadata": {},
   "source": [
    "**Ejercicio 5.11:** Aplicar el método de Gauss-Seidel al sistema del ejercicio 5.10. \n",
    "Calcular cuantás iteracciones son necesarias para la misma precisión. "
   ]
  },
  {
   "cell_type": "code",
   "execution_count": 43,
   "id": "7fd8361b",
   "metadata": {},
   "outputs": [],
   "source": [
    "from numpy  import tril\n",
    "\n",
    "def gauss_seidel(A,v,eps):\n",
    "\n",
    "    # eps es el error de convergencia        \n",
    "    N=len(v)\n",
    "    # Creamos nuestra descompsición D,L,U\n",
    "    DL=tril(A)                # tril crea un matriz triangular inferior\n",
    "    U=A-DL                    # creamos la matrix U\n",
    "    x0=zeros(N,float)         # creamos la primera estimación de x\n",
    "                              # inicializamos x\n",
    "    err=1e6\n",
    "    it=0\n",
    "    \n",
    "    while err>eps:  \n",
    "        x=(v-dot(U,x0))        \n",
    "       # Sustitución hacía adelante       \n",
    "        for m in range(N):\n",
    "            for i in range(m):\n",
    "                x[m]-= DL[m,i]*x[i]\n",
    "            x[m]/=DL[m,m]\n",
    "    \n",
    "        err=abs(max(x-x0))\n",
    "        x0=copy(x)\n",
    "        it+=1\n",
    "\n",
    "    return x,it"
   ]
  },
  {
   "cell_type": "code",
   "execution_count": 44,
   "id": "fcb6ff6d",
   "metadata": {},
   "outputs": [
    {
     "name": "stdout",
     "output_type": "stream",
     "text": [
      "[-0.57  1.02  1.02  0.52], [-0.57  1.02  1.02  0.52]\n",
      "El número de itracciones del método de jacobi es:  12\n"
     ]
    }
   ],
   "source": [
    "A=array([[8,1,2,1],[1,5,-1,-1],[1,-4,6,1],[1,-2,1,5]],float)\n",
    "V=array([-1,3,2,1],float)\n",
    "x1,it=gauss_seidel(A,V,1e-6)\n",
    "x2,AB=gaussian_elim(A,V)\n",
    "print(x1,x2,sep=\", \")\n",
    "print(\"El número de itracciones del método de Gauss es: \",it)"
   ]
  },
  {
   "cell_type": "markdown",
   "id": "0c54cbb5",
   "metadata": {},
   "source": [
    "#### Método de Sobrerelajación sucesiva. \n",
    "\n",
    "- El método de Gauss-Seidel se puede escribir como:\n",
    "\n",
    "$$x_i^{k+1}=x_i^k+\\,\\frac{1}{a_{ii}}\\left(v_i-\\sum_{j=1}^{i-1}{a_{ij}\\,x_j^{k+1}}-\\sum_{j=i}^{N}{a_{ij}\\,x_j^{k}}\\right),$$\n",
    "\n",
    "$\\quad$ donde simplemente hemos sumado y restado la estimación $x^k$ en la solución.\n",
    "\n",
    "- Los métodos de relajación usan que la combinación $D+\\omega L$, siendo $\\omega$ un parámetro arbitrario, es una matriz triangular inferior para generalizar el método de Gauss-Seidel para el caso $\\omega\\neq0$:\n",
    "\n",
    "$$x_i^{k+1}=(1-\\omega)\\,x_i^k+\\,\\frac{\\omega}{a_{ii}}\\left(v_i-\\sum_{j=1}^{i-1}{a_{ij}\\,x_j^{k+1}}-\\sum_{j=i+1}^{N}{a_{ij}\\,x_j^{k}}\\right),$$\n",
    "\n",
    "$\\quad$ que permite encontrar el valor de $\\omega$ que optimiza la convergencia.\n",
    "\n",
    "- Además, para valores de $0<\\omega<2$ el método de sobrerelajación sucesiva converge para cualquier matriz simétrica definida positiva.  "
   ]
  },
  {
   "cell_type": "markdown",
   "id": "5836f3c5",
   "metadata": {},
   "source": [
    "**Ejercicio 5.12:** Aplicar el método de la sobrerelajación sucesiva al sistema de ecuaciones del Ejericio 5.10. Calcular una vez más el número de iteracciones necesarias para alcanzar la misma precisión. "
   ]
  },
  {
   "cell_type": "code",
   "execution_count": 55,
   "id": "136563fe",
   "metadata": {},
   "outputs": [],
   "source": [
    "from numpy  import tril\n",
    "\n",
    "def gauss_seidel_rel(A,v,w,eps):\n",
    "\n",
    "    # eps es el error de convergencia        \n",
    "    N=len(v)\n",
    "    # Creamos nuestra descompsición D,L,U\n",
    "    DL=tril(A)                # tril crea un matriz triangular inferior\n",
    "    U=A-DL                    # creamos la matrix U\n",
    "    x0=zeros(N,float)         # creamos la primera estimación de x\n",
    "                              # inicializamos x\n",
    "    err=1e6\n",
    "    it=0\n",
    "    \n",
    "    while err>eps:  \n",
    "        x=(v-dot(U,x0))        \n",
    "       # Sustitución hacía adelante       \n",
    "        for m in range(N):\n",
    "            for i in range(m):\n",
    "                x[m]-= DL[m,i]*x[i]\n",
    "            x[m]=(1-w)*x0[m]+w/DL[m,m]*x[m]            \n",
    "        err=abs(max(x-x0))\n",
    "        x0=copy(x)\n",
    "        it+=1\n",
    "\n",
    "    return x,it"
   ]
  },
  {
   "cell_type": "code",
   "execution_count": 56,
   "id": "8b2680cb",
   "metadata": {},
   "outputs": [
    {
     "name": "stdout",
     "output_type": "stream",
     "text": [
      "[-0.57  1.02  1.02  0.52], [-0.57  1.02  1.02  0.52]\n",
      "El número de itracciones del método de la sobrerelajación sucesiva es:  9\n"
     ]
    }
   ],
   "source": [
    "A=array([[8,1,2,1],[1,5,-1,-1],[1,-4,6,1],[1,-2,1,5]],float)\n",
    "V=array([-1,3,2,1],float)\n",
    "w=1.1\n",
    "x1,it=gauss_seidel_rel(A,V,w,1e-6)\n",
    "x2,AB=gaussian_elim(A,V)\n",
    "print(x1,x2,sep=\", \")\n",
    "print(\"El número de itracciones del método de la sobrerelajación sucesiva es: \",it)"
   ]
  },
  {
   "cell_type": "markdown",
   "id": "2abc9528",
   "metadata": {},
   "source": [
    "## 5.2 Autovalores y autovectores."
   ]
  },
  {
   "cell_type": "markdown",
   "id": "167fcc60",
   "metadata": {},
   "source": [
    "- Los problemas de autovalores son fundamentales en muchos campos de la física. \n",
    "\n",
    "- En la mayoría de los casos físicos, involucran matrices reales simétricas o complejas hermíticas.  \n",
    "\n",
    "- En esos casos la matriz es diagonalizable, y el problema es equivalente a encontrar el sistema de coordenadas para el que la matriz es diagonal.\n",
    "\n",
    "- En particular, para una matriz simétrica de dimensión $N\\times N$ el problema de autovalores:\n",
    "\n",
    "$$A\\cdot v_i =\\lambda_i v_i,\\quad i=1,\\cdots,N$$\n",
    "\n",
    "$\\quad$ con $v_i$ el autovector $i$ y $\\lambda_i\\in{\\mathbb R}$ su correspondiente autovalor, se puede escribir como:\n",
    "\n",
    "$$A\\cdot V =D\\cdot V,$$\n",
    "\n",
    "$\\quad$ con $D$ una matriz diagonal cuyos valores son los autovalores $\\lambda_i$  y $V$ una matriz ortogonal, es decir que satisface,\n",
    "\n",
    "$$V^T\\cdot V=V\\cdot V^T=I,$$\n",
    "\n",
    "$\\quad$ cuya columna $i$-esima corresponde al autovector $v_i$.\n",
    "\n",
    "### 5.2.1 Descomposición QR.\n",
    "\n",
    "- El método más cómun usado para calcular los autovalores de una matriz es la descomposición QR. \n",
    "\n",
    "- Es parecida a la factorización $LU$, pero en este caso la matriz $A$ se descompone como\n",
    "\n",
    "$$A=Q\\cdot R,$$\n",
    "\n",
    "$\\quad$ siendo $Q$ una matriz ortogonal y $R$ una matriz triangular superior. \n",
    "\n",
    "- La factorización QR corresponde a aplicar el método de Gramm-Schmidt para la obtención de una base ortonormal.\n",
    "\n",
    "- Para ello entendamos la matriz A como un conjunto de $N$ vectores columna $a_1,\\cdots,a_N$\n",
    "\n",
    "$$A=\\left(\n",
    "\\begin{array}{cccc}\n",
    "\\vert&\\vert&\\cdots&\\vert\\nonumber\\\\\n",
    "a_{1}&a_{2}&\\cdots&a_{n}\\nonumber\\\\\n",
    "\\vert&\\vert&\\cdots&\\vert\\nonumber\\\\\n",
    "\\end{array}\\right)$$\n",
    "\n",
    "$\\quad$ que podemos usar para construir los vectores $u_i$ y $q_i$ con $i=1,\\cdots,N$ definidos por\n",
    "\n",
    "\\begin{align}\n",
    "u_1=&\\,a_1,\\quad &q_1=\\frac{u_1}{\\vert u_1\\vert},\\nonumber\\\\\n",
    "u_2=&\\,a_2-\\left(q_1\\cdot a_2\\right)\\,q_1,\\quad &q_2=\\frac{u_2}{\\vert u_2\\vert},\\nonumber\\\\\n",
    "u_3=&\\,a_3-\\left(q_1\\cdot a_3\\right)\\,q_1-\\left(q_2\\cdot a_3\\right)\\,q_2,\\quad &q_3=\\frac{u_3}{\\vert u_3\\vert},\\nonumber\\\\\n",
    "\\end{align}\n",
    "\n",
    "$\\quad$ y de forma general\n",
    "\n",
    "$$u_i=a_i-\\sum_{j=1}^{i-1} \\left(a_j\\cdot q_j\\right)q_j,\\quad q_i=\\frac{u_i}{\\vert u_1\\vert},$$\n",
    "\n",
    "* Los vectores $q_i$ forma una base de vectores ortonormales, que permiten escribir:\n",
    "\n",
    "$$A=\\left(\n",
    "\\begin{array}{cccc}\n",
    "\\vert&\\vert&\\cdots&\\vert\\nonumber\\\\\n",
    "a_{1}&a_{2}&\\cdots&a_{n}\\nonumber\\\\\n",
    "\\vert&\\vert&\\cdots&\\vert\\nonumber\\\\\n",
    "\\end{array}\\right)=\\left(\n",
    "\\begin{array}{cccc}\n",
    "\\vert&\\vert&\\cdots&\\vert\\nonumber\\\\\n",
    "q_{1}&q_{2}&\\cdots&q_{n}\\nonumber\\\\\n",
    "\\vert&\\vert&\\cdots&\\vert\\nonumber\\\\\n",
    "\\end{array}\\right)\\cdot \\left(\n",
    "\\begin{array}{cccc}\n",
    "\\vert u_{1}\\vert &\\left(q_1\\cdot a_{2}\\right)&\\cdots&\\left(q_1\\cdot a_{n}\\right)\\nonumber\\\\\n",
    "0&\\vert u_{2}\\vert &\\cdots&\\left(q_2\\cdot a_{n}\\right)\\nonumber\\\\\n",
    "\\vdots&\\vdots&\\ddots&\\vdots\\nonumber\\\\\n",
    "\\end{array}\\right)=Q\\cdot R$$\n",
    "\n",
    "### 5.2.2 Algoritmo QR.\n",
    "\n",
    "- Una vez hemos factorizado nuestra matriz A en una matriz ortogonal $Q_1$ y una matriz triangular $R_1$\n",
    "\n",
    "$$A=Q_1\\cdot R_1,$$\n",
    "\n",
    "$\\quad$ multiplicando $Q_1$ por la derecha y por $Q_1^T$ por la izquierda tenemos\n",
    "\n",
    "$$Q_1^T\\cdot A\\cdot Q_1=Q_1^T\\cdot Q_1\\cdot R_1\\cdot Q_1=R_1\\cdot Q_1,$$\n",
    "\n",
    "$\\quad$ donde hemos usado que $Q_1$ es una matriz ortogonal.\n",
    "\n",
    "- Llamando  $A_1=Q_1^T\\cdot A\\cdot Q_1$, lo relevante es notar que $A$ y $A_1$ tienen los mismos autovalores (el mismo espectro) y son por tanto matrices semejantes.\n",
    "\n",
    "\n",
    "- Llamando $v_1$ y $\\lambda_1$ a uno de los autovectores y autovalores de $A_1$ tenemos que\n",
    "\n",
    "$$A_1\\cdot v_1=Q_1^T\\cdot A\\cdot Q_1\\cdot v_1=\\lambda_1\\,v_1\\Rightarrow A\\cdot \\left(Q_1\\cdot v_1\\right)= \\lambda_1\\left(Q_1\\cdot v_1\\right),$$\n",
    "\n",
    "$\\quad$ y por tanto $\\lambda_1$ también es un autovalor de $A$ con autovector $Q_1\\cdot v_1$. \n",
    "\n",
    "- Esto implica que el problema de autovalores sigue siendo el mismo, y por tanto nos podemos centrar en la nueva matriz $A_1$, la cual podemos descomponer una vez más\n",
    "\n",
    "$$A_1=Q_1^T\\cdot A\\cdot Q_1=Q_2\\cdot R_2,$$\n",
    "\n",
    "$\\quad$ y volviendo a multiplicar por $Q_2$ y $Q_2^T$ por la derecha e izquierda respectivamente, encontramos una nueva matriz $A_2$\n",
    "\n",
    "$$A_2=Q_2^T\\cdot A_1\\cdot Q_2=Q_2^T\\cdot Q_1^T\\cdot A\\cdot Q_1\\cdot Q_2=R_2\\cdot Q_2,$$\n",
    "\n",
    "- Podemos repetir estre proceso $n$ veces obteniendo en cada iteracción:\n",
    "\n",
    "\\begin{align}\n",
    "A_1=&\\,Q_1^T\\cdot A\\cdot Q_1,\\nonumber\\\\\n",
    "A_2=&\\,Q_2^T\\cdot Q_1^T\\cdot A\\cdot Q_1\\cdot Q_2,\\nonumber\\\\\n",
    "A_3=&\\,Q_3^T\\cdot Q_2^T\\cdot Q_1^T\\cdot A\\cdot Q_1\\cdot Q_2\\cdot Q_3,\\nonumber\\\\\n",
    "\\vdots\\quad &\\quad\\quad\\quad\\quad \\vdots,\\nonumber\\\\\n",
    "A_n=&\\,\\left(Q_n^T\\cdots Q_1^T\\right)\\cdot A\\cdot \\left(Q_1\\cdots Q_n\\right),\\nonumber\\\\\n",
    "\\end{align}\n",
    "\n",
    "- Una matriz ortogonal no es más que un cambio de coordenadas, es decir, una rotación. \n",
    "\n",
    "- Por ejemplo, en dos dimensiones, N=2:\n",
    "\n",
    "$$Q=\\left(\n",
    "\\begin{array}{cc}\n",
    "\\cos\\alpha&-\\sin\\alpha\\nonumber\\\\\n",
    "\\sin\\alpha&\\cos\\alpha\\nonumber\\\\\n",
    "\\end{array}\\right),$$\n",
    "\n",
    "- Al rotar el sistema de coordenadas de nuestra matrix $k$ veces, estamos transformando nuestra matriz en una matriz diagonal."
   ]
  },
  {
   "cell_type": "code",
   "execution_count": 6,
   "id": "1389b939",
   "metadata": {},
   "outputs": [
    {
     "data": {
      "text/html": [
       "<img src=\"QR.gif\">"
      ],
      "text/plain": [
       "<IPython.core.display.HTML object>"
      ]
     },
     "execution_count": 6,
     "metadata": {},
     "output_type": "execute_result"
    }
   ],
   "source": [
    "from IPython.display import HTML\n",
    "HTML('<img src=\"QR.gif\">')"
   ]
  },
  {
   "cell_type": "markdown",
   "id": "4dbe4732",
   "metadata": {},
   "source": [
    "- La demostración de que en el limite cuando $k\\to\\infty$ ese es el caso, es complicada, pero se puede entender notando que mietras fuera de la diagonal estamos incluyendo el producto de senos y cosenos, en la diagonal estamos siempre sumando senos y cosenos al cuadrado."
   ]
  },
  {
   "cell_type": "markdown",
   "id": "031a18ca",
   "metadata": {},
   "source": [
    "- Por tanto, la idea es continuar el proceso hasta que la matriz $A_k$ se vuelva diagonal.\n",
    "- Los terminos fuera de la diagonal se van haciendo cada vez más pequeños hasta que se hacen cero o tan cercanos a cero que los podemos despreciar.\n",
    "- Por tanto, dada una precisión podemos diagonalizar la matriz mediante transformaciones de semejanza hasta obtener una matriz diagonal.\n",
    "\n",
    "- Por tanto, definiendo la matriz ortogonal:\n",
    "\n",
    "$$V=\\left(Q_1\\cdots Q_n\\right)=\\prod_{i=1}^k Q_i,$$\n",
    "\n",
    "$\\quad$ obtenemos que:\n",
    "\n",
    "$$V^T\\cdot A\\cdot V =D\\;\\Rightarrow\\; A\\cdot V = D\\cdot V.$$"
   ]
  },
  {
   "cell_type": "markdown",
   "id": "3e8f5cea",
   "metadata": {},
   "source": [
    "### Algoritmo QR para el cálculo de autovectores y autovalores\n",
    "\n",
    "Elegida una precisión $\\epsilon$ para los términos de fuera de la diagonal.\n",
    "\n",
    "1. Crear una matriz V $N \\times N$ para contener los autovectores. Inicializar V igual a la matriz identidad.\n",
    "2. Calcular la factorización QR de $A$: $A = Q\\cdot R$.\n",
    "3. Actualizar $A$ a un nuevo valor $A = R\\cdot Q$.\n",
    "4. Multiplicar $V$ por la derecha por $Q$.\n",
    "5.  Comprobar los términos no-diagonales de la nueva A. Si son en valor absoluto menores que $\\epsilon$, hemos acabado.  \n",
    "    En caso contrario, volver al paso 2.\n",
    "\n"
   ]
  },
  {
   "cell_type": "markdown",
   "id": "41cf6ba0",
   "metadata": {},
   "source": [
    "**Ejercicio 5.13:** Dada la matriz\n",
    "\n",
    "$$A=\\left(\\begin{array}{cccc}\n",
    "1&4&8&4\\\\\n",
    "4&2&3&7\\\\\n",
    "8&3&6&9\\\\\n",
    "4&7&9&2\\\\\n",
    "\\end{array}\n",
    "\\right),$$\n",
    "\n",
    "1. Escribir un programa que la factorice en las matrices $Q$ y $R$.\n",
    "2. Escribir un programa que utilice esta factorización para obtener los autovalores de $A$ asegurando que los elementos de fuera de la diagonal son menores de $10^{-6}$."
   ]
  },
  {
   "cell_type": "code",
   "execution_count": 45,
   "id": "014cc8ec",
   "metadata": {},
   "outputs": [],
   "source": [
    "from numpy import array,zeros,dot,sqrt,identity,copy,absolute,max\n",
    "\n",
    "# Módulo de un vector\n",
    "def mag(v):\n",
    "    return sqrt(dot(v,v))\n",
    "\n",
    "# Función para calcular la factorización QR\n",
    "\n",
    "def QR_fact(A):\n",
    "    \n",
    "    N=len(A)\n",
    "    \n",
    "    # Inicializamos los tres vectores que necesitamos para Gram-Schmidt\n",
    "    \n",
    "    U = zeros([N,N],float)\n",
    "    Q = zeros([N,N],float)\n",
    "    R = zeros([N,N],float)\n",
    "\n",
    "    for m in range(N):\n",
    "        U[:,m] = A[:,m]                  # Creamos los vectores de U        \n",
    "        for i in range(m):\n",
    "            R[i,m] = dot(Q[:,i],A[:,m])  # los vamos calculando en cada iteracción\n",
    "            U[:,m] -= R[i,m]*Q[:,i]\n",
    "        R[m,m] = mag(U[:,m])\n",
    "        Q[:,m] = U[:,m]/R[m,m]\n",
    "    return Q,R"
   ]
  },
  {
   "cell_type": "code",
   "execution_count": 67,
   "id": "1a23ebb7",
   "metadata": {},
   "outputs": [
    {
     "name": "stdout",
     "output_type": "stream",
     "text": [
      "[[ 0.10153462  0.558463    0.80981107  0.1483773 ]\n",
      " [ 0.40613847 -0.10686638 -0.14147555  0.8964462 ]\n",
      " [ 0.81227693 -0.38092692  0.22995024 -0.37712564]\n",
      " [ 0.40613847  0.72910447 -0.5208777  -0.17928924]]\n",
      "\n",
      "[[ 9.8488578   6.49821546 10.55960012 11.37187705]\n",
      " [ 0.          5.98106979  8.4234836  -0.484346  ]\n",
      " [ 0.          0.          2.74586406  3.27671222]\n",
      " [ 0.          0.          0.          3.11592335]]\n",
      "\n",
      "[[0. 0. 0. 0.]\n",
      " [0. 0. 0. 0.]\n",
      " [0. 0. 0. 0.]\n",
      " [0. 0. 0. 0.]]\n"
     ]
    }
   ],
   "source": [
    "A=array([[1,4,8,4],\n",
    "[4,2,3,7],\n",
    "[8,3,6,9],\n",
    "[4,7,9,2]],float)\n",
    "\n",
    "Q,R=QR_fact(A)\n",
    "print(Q)\n",
    "print()\n",
    "print(R)\n",
    "print()\n",
    "print(dot(Q,R)-A)"
   ]
  },
  {
   "cell_type": "code",
   "execution_count": 2,
   "id": "24ee351a",
   "metadata": {},
   "outputs": [],
   "source": [
    "# Algoritmo QR para la diagonalizcion\n",
    "def QR_diag(A,eps):\n",
    "\n",
    "    N=len(A)\n",
    "    V = identity(N,float)    # Empezamos con la identidad\n",
    "    delta = 1.0\n",
    "    while delta > eps:\n",
    "        # Hacemos un paso del algoritmo QR\n",
    "        \n",
    "        Q,R = QR(A)\n",
    "        A = dot(R,Q)\n",
    "        V = dot(V,Q)\n",
    "\n",
    "        # Encontramos el mayor valor absoluto de los elementos fuera de la diagonal\n",
    "        Ac = copy(A)\n",
    "        for i in range(N): \n",
    "            Ac[i,i]=0.0            \n",
    "        delta = max(np.absolute(Ac))\n",
    "    return A,V"
   ]
  },
  {
   "cell_type": "code",
   "execution_count": 55,
   "id": "5ec7d1e7",
   "metadata": {},
   "outputs": [
    {
     "name": "stdout",
     "output_type": "stream",
     "text": [
      "[[ 2.10000000e+01  7.36067996e-07  3.58098914e-14 -4.71410140e-14]\n",
      " [ 7.36067998e-07 -8.00000000e+00  5.99038895e-08 -9.78974979e-15]\n",
      " [ 1.76373367e-14  5.99038974e-08 -3.00000000e+00 -2.06493959e-08]\n",
      " [ 5.69063112e-23  9.58659066e-16 -2.06493983e-08  1.00000000e+00]]\n",
      "\n",
      "[[ 0.43151698 -0.38357064 -0.77459666 -0.25819889]\n",
      " [ 0.38357063  0.43151698 -0.2581989   0.77459667]\n",
      " [ 0.62330228  0.52740965  0.25819889 -0.51639778]\n",
      " [ 0.52740965 -0.62330227  0.51639779  0.25819889]]\n",
      "\n",
      "Nuestros autovalores son:  [21. -8. -3.  1.]\n"
     ]
    }
   ],
   "source": [
    "from numpy import diag\n",
    "\n",
    "D,V=QR_diag(A,1e-6)\n",
    "\n",
    "print(D)\n",
    "print()\n",
    "print(V)\n",
    "print()\n",
    "print(\"Nuestros autovalores son: \",diag(D))"
   ]
  },
  {
   "cell_type": "code",
   "execution_count": 66,
   "id": "dd3f705b",
   "metadata": {},
   "outputs": [
    {
     "name": "stdout",
     "output_type": "stream",
     "text": [
      "[-2.82334087e-07  3.17625835e-07  3.88209365e-07 -4.58792842e-07]\n",
      "[2.71224478e-07 2.66866944e-07 4.74259977e-07 4.19143599e-07]\n",
      "[-1.76457049e-08  9.85460358e-09  4.22572147e-08 -4.26698643e-08]\n",
      "[ 1.59949389e-08  5.33163047e-09 -5.33168265e-09 -1.06633180e-08]\n"
     ]
    }
   ],
   "source": [
    "# Comprobemos que son autovalores y autovectores:\n",
    "\n",
    "for i in range(len(A)):\n",
    "    print(dot(A,V[:,i])- diag(D)[i]*V[:,i])\n"
   ]
  },
  {
   "cell_type": "markdown",
   "id": "e4d2b61d",
   "metadata": {},
   "source": [
    "- En Python en el módulo numpy.linalg hay funciones para calcular las autofunciones y autovalores de una matriz A:\n",
    "\n",
    "\n",
    "- eigh calcula los autovalores y autovectores de un matriz simétrica o hermítica utilizando el algoritmo QR.\n",
    "- eigvalsh calcula solo los autovalores. Devuelve un array con los autovalores.\n",
    "- Para matrices no simétricas o no hermíticas uno puede usar las funciones: eig y eigvals.\n"
   ]
  },
  {
   "cell_type": "markdown",
   "id": "a2489845",
   "metadata": {},
   "source": [
    "**Ejercicio 5.14: Pozo de potencial asimétrico en Mecánica Cuántica.**\n",
    "\n",
    "La mecánica cuántica puede formularse como un problema matricial que puede resolverse en un ordenador usando los  métodos del álgebra lineal.  \n",
    "Estudiemos por ejemplo una partícula de masa $m$ en un potencial unidimensional de de longitud $L$ descrito por una función $V(x)$."
   ]
  },
  {
   "cell_type": "code",
   "execution_count": 1,
   "id": "c3090ada",
   "metadata": {},
   "outputs": [
    {
     "data": {
      "image/png": "[encoded data removed]",
      "text/plain": [
       "<IPython.core.display.Image object>"
      ]
     },
     "metadata": {
      "image/png": {
       "height": 600,
       "width": 600
      }
     },
     "output_type": "display_data"
    }
   ],
   "source": [
    "from IPython.display import Image,display\n",
    "\n",
    "display(Image(filename=\"pozo.png\", width=600, height=600))"
   ]
  },
  {
   "cell_type": "markdown",
   "id": "c8f5f253",
   "metadata": {},
   "source": [
    "En general estos problemas no pueden resolverse analíticamente y tienen que ser analizados en un ordenador.\n",
    "Un autoestado de energía E satisface la ecuación de Schrödinger independiente del tiempo:\n",
    "\n",
    "$$\\hat{H}\\psi(x)=E\\,\\psi(x),$$\n",
    "\n",
    "donde el hamiltoniano satisface:\n",
    "\n",
    "$$\\hat H =-\\frac{\\hbar^2}{2m}\\frac{\\text{d}^2}{\\text{d}x^2}+V(x).$$\n",
    "\n",
    "Asumamos que las paredes del potencial tienen una altura infinita, que nos permite definir que la función de onda se anula para $x=0$ y $L$.\n",
    "\n",
    "En ese caso la función de onda puede escribirse como una series de Fourier:\n",
    "\n",
    "$$\\psi(x)=\\sum_{n=1}^\\infty{\\psi_n\\,\\sin\\frac{\\pi n x}{L}},$$\n",
    "\n",
    "donde $\\psi_i$ con $i=1,\\cdots,\\infty$ son los coeficientes de Fourier. \n",
    "\n",
    "1. Teniendo en cuenta que para dos enteros positivos $m$ y $n$\n",
    "\n",
    "$$\\int\\limits_0^L{\\sin\\frac{\\pi m x}{L}\\sin\\frac{\\pi n x}{L}\\text{d}x}=\\bigg\\{\\begin{array}{cc}L/2\\nonumber&\\text{si}\\; m=n\\\\0&\\text{de otra forma.}\\end{array}$$\n",
    "\n",
    "$\\quad$ mostrar que la ecauciones de Schrödinger $\\hat H\\psi =E\\psi$ implica que\n",
    "\n",
    "$$\\sum_{n=1}^\\infty\\psi_n\\int\\limits_0^L\\sin\\frac{\\pi m x}{L}\\hat H\\sin\\frac{\\pi n x}{L}\\text{d}x=\\frac{1}{2}L E\\,\\psi_m.$$\n",
    "   \n",
    "2. Definiendo la matriz $H$ como aquella con elementos:\n",
    "\n",
    "\\begin{align}\n",
    "H_{mn}=&\\frac{2}{L}\\int\\limits_0^L{\\sin\\frac{\\pi m x}{L}\\hat H\\sin\\frac{\\pi n x}{L}}\\nonumber\\\\\n",
    "    =&\\frac{2}{L}\\int\\limits_0^L{\\sin\\frac{\\pi m x}{L}\\left[-\\frac{\\hbar^2}{2m}\\frac{\\text{d}^2}{\\text{d}x^2}+V(x)\\right]\\sin\\frac{\\pi n x}{L}},\\nonumber\n",
    "\\end{align}\n",
    "\n",
    "$\\quad$ muestra que la ecuación de Schrödinger se puede escribir de forma matricial \n",
    "\n",
    "$$H\\cdot \\psi=E\\psi$$\n",
    "\n",
    "$\\quad$ siendo $\\psi=(\\psi_1,\\psi_2,\\cdots)$, que por tanto es un un autovector de la matriz del Hamiltoniano $H$ con autovalor $E$.  \n",
    "$\\quad$ Conociendo los autovalores de la matrix estamos encontrando los diferentes niveles de energía posibles de nuestra partícula. \n",
    "\n",
    "3. Asumiendo ahora que V(x)=ax/L, resolver la integral analíticamente,que permite encontrar una expresión para el elemento de matriz $H_{mn}$. Mostrar que la matriz es real y simétrica. Tener en cuenta que:\n",
    "\n",
    "$$\\int\\limits_0^L{x\\,\\sin\\frac{\\pi m x}{L}\\sin\\frac{\\pi n x}{L}\\text{d}x}=\\left\\{\\begin{array}{cc}\n",
    "0&\\text{si}\\; m\\neq n\\;\\text{y ambos son pares o impares}\\nonumber\\\\\n",
    "-\\left(\\frac{2L}{\\pi}\\right)^2\\frac{mn}{\\left(m^2-n^2\\right)^2}\\nonumber&\\text{si}\\; m\\neq n\\;\\text{y uno es par y otro impar}\\nonumber\\\\\n",
    "L^2/4\\;&\\text{si}\\;m=n\\end{array}\\right.$$\n",
    "\n",
    "4. Escribir un programa que calcule $H_{mn}$ para cualquier valor de $m$ y $n$ para un electron en un pozo de anchura $L= 5 \\mathring A$ y $a=10$ eV.   \n",
    "   (Ayuda $m_e=9.1094\\times 10^{-31}$ Kg y $e=1.6022\\times 10^{-19}$ C).\n",
    "\n",
    "5. La matriz H es infinitamente grande por lo que no es posible calcular sus autovalores.  Sin embargo, se puede obtener una solucion aproximada muy buena si sólo consideramos los primeros autovalores.   \n",
    "    Crear una matriz 10 × 10 de los elementos de matriz hasta $m, n = 10$ y calcular sus autovalores y auto vectores.\n",
    "    \n",
    "6. Hacerlo ahora una matriz 100 × 100 y comparar los resultados. \n",
    "\n",
    "7. Representar la densidad de probabilidad $\\vert \\psi(x)\\vert^2$ para función de onda $\\psi(x)$ normalizada, para el estado fundamental y los dos primeros estados escitados.\n"
   ]
  },
  {
   "cell_type": "markdown",
   "id": "a978c10d",
   "metadata": {},
   "source": [
    "**Final de la clase del 27/10/21**"
   ]
  }
 ],
 "metadata": {
  "kernelspec": {
   "display_name": "Python 3 (ipykernel)",
   "language": "python",
   "name": "python3"
  },
  "language_info": {
   "codemirror_mode": {
    "name": "ipython",
    "version": 3
   },
   "file_extension": ".py",
   "mimetype": "text/x-python",
   "name": "python",
   "nbconvert_exporter": "python",
   "pygments_lexer": "ipython3",
   "version": "3.9.9"
  }
 },
 "nbformat": 4,
 "nbformat_minor": 5
}
